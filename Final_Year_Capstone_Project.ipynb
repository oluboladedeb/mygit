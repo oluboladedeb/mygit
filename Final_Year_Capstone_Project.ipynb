{
  "nbformat": 4,
  "nbformat_minor": 0,
  "metadata": {
    "colab": {
      "provenance": [],
      "authorship_tag": "ABX9TyOsp2hW4Rv0SSMo+0UnwdrV",
      "include_colab_link": true
    },
    "kernelspec": {
      "name": "python3",
      "display_name": "Python 3"
    },
    "language_info": {
      "name": "python"
    }
  },
  "cells": [
    {
      "cell_type": "markdown",
      "metadata": {
        "id": "view-in-github",
        "colab_type": "text"
      },
      "source": [
        "<a href=\"https://colab.research.google.com/github/oluboladedeb/mygit/blob/main/Final_Year_Capstone_Project.ipynb\" target=\"_parent\"><img src=\"https://colab.research.google.com/assets/colab-badge.svg\" alt=\"Open In Colab\"/></a>"
      ]
    },
    {
      "cell_type": "markdown",
      "source": [
        "## **Web Traffic Forecasting Using Machine Learning**"
      ],
      "metadata": {
        "id": "LR3_BgeMnM3x"
      }
    },
    {
      "cell_type": "code",
      "execution_count": 1,
      "metadata": {
        "id": "HJmDCKuqnHe8"
      },
      "outputs": [],
      "source": [
        "import pandas as pd\n",
        "import numpy as np\n",
        "import matplotlib.pyplot as plt\n",
        "from sklearn.model_selection import train_test_split\n",
        "from sklearn.preprocessing import LabelEncoder\n",
        "from sklearn.metrics import mean_absolute_error, mean_squared_error, mean_absolute_percentage_error, r2_score\n",
        "from keras.models import Sequential\n",
        "from keras.layers import Dense, LSTM, GRU, SimpleRNN, Conv2D, MaxPooling2D, Flatten\n",
        "from keras.optimizers import Adam\n",
        "\n"
      ]
    },
    {
      "cell_type": "markdown",
      "source": [
        "#Loading the dataset\n"
      ],
      "metadata": {
        "id": "ab2Z4Y2Lorg_"
      }
    },
    {
      "cell_type": "code",
      "source": [
        "dataset_path = \"sample_data\\ecommerce\\ecommerce_dataset.csv\"\n"
      ],
      "metadata": {
        "id": "pdiycimznWlE"
      },
      "execution_count": 6,
      "outputs": []
    },
    {
      "cell_type": "code",
      "source": [
        "df = pd.read_csv('sample_data/ecommerce/ecommerce_dataset.csv')\n",
        "\n",
        "# Display the first few rows of the dataset to check if it loaded correctly\n",
        "print(df.head())\n"
      ],
      "metadata": {
        "colab": {
          "base_uri": "https://localhost:8080/"
        },
        "id": "suQoR5PSo_57",
        "outputId": "43e31466-f97a-4a6f-b86a-62779b48c6b4"
      },
      "execution_count": 9,
      "outputs": [
        {
          "output_type": "stream",
          "name": "stdout",
          "text": [
            "         Date      Time Seasonality  Notable Events  \\\n",
            "0  2023-01-01  12:30:00      Winter  New Collection   \n",
            "1  2023-01-02  13:30:00      Summer            Sale   \n",
            "2  2023-01-03  09:00:00      Summer            Sale   \n",
            "3  2023-01-04  11:00:00      Winter            Sale   \n",
            "4  2023-01-05  15:00:00      Winter            Sale   \n",
            "\n",
            "   Web Traffic (Number of Visits)    Feature1 Feature2  \n",
            "0                            6803  Category A     Male  \n",
            "1                            6088  Category C     Male  \n",
            "2                            5002  Category A     Male  \n",
            "3                            1782  Category A     Male  \n",
            "4                            4585  Category C     Male  \n"
          ]
        }
      ]
    },
    {
      "cell_type": "markdown",
      "source": [
        "#Data Preprocessing\n"
      ],
      "metadata": {
        "id": "1hceg8Y5qhfh"
      }
    },
    {
      "cell_type": "code",
      "source": [
        "# Encode categorical variables \"Seasonality\" and \"Notable Events\"\n",
        "label_encoder = LabelEncoder()\n",
        "df[\"Seasonality\"] = label_encoder.fit_transform(df[\"Seasonality\"])\n",
        "df[\"Notable Events\"] = label_encoder.fit_transform(df[\"Notable Events\"])"
      ],
      "metadata": {
        "id": "rVtcJn4Pqgkn"
      },
      "execution_count": 10,
      "outputs": []
    },
    {
      "cell_type": "code",
      "source": [
        "# Assuming X contains the relevant input features and y contains the target variable (\"Web Traffic (Number of Visits)\")\n",
        "X = df[[\"Seasonality\", \"Notable Events\", \"Feature1\", \"Feature2\"]].values\n",
        "y = df[\"Web Traffic (Number of Visits)\"].values\n"
      ],
      "metadata": {
        "id": "3fXo7Vweqym_"
      },
      "execution_count": 11,
      "outputs": []
    }
  ]
}